{
 "cells": [
  {
   "cell_type": "code",
   "execution_count": null,
   "metadata": {},
   "outputs": [],
   "source": [
    "import sys\n",
    "from pathlib import Path\n",
    "\n",
    "src_path = Path(\"..\")\n",
    "sys.path.append(str(src_path.resolve()))\n"
   ]
  },
  {
   "cell_type": "markdown",
   "metadata": {},
   "source": [
    "### 1 Step: ASR, MT and alligment"
   ]
  },
  {
   "cell_type": "code",
   "execution_count": null,
   "metadata": {},
   "outputs": [
    {
     "name": "stderr",
     "output_type": "stream",
     "text": [
      "/home/alexbarrow/proj/video-dubbing-dls-project/.venv/lib/python3.11/site-packages/tqdm/auto.py:21: TqdmWarning: IProgress not found. Please update jupyter and ipywidgets. See https://ipywidgets.readthedocs.io/en/stable/user_install.html\n",
      "  from .autonotebook import tqdm as notebook_tqdm\n",
      "/home/alexbarrow/proj/video-dubbing-dls-project/.venv/lib/python3.11/site-packages/transformers/models/marian/tokenization_marian.py:177: UserWarning: Recommended: pip install sacremoses.\n",
      "  warnings.warn(\"Recommended: pip install sacremoses.\")\n"
     ]
    }
   ],
   "source": [
    "from src.asr import ASR\n",
    "from src.mt import MT\n",
    "from src.utils import alligment\n",
    "\n",
    "audio_path = \"/home/alexbarrow/proj/video-dubbing-dls-project/data/output_ted_audio.wav\"\n",
    "chunk_path = \"/home/alexbarrow/proj/video-dubbing-dls-project/data/wav_chunks\"\n",
    "\n",
    "model_asr = ASR()\n",
    "model_mt = MT()"
   ]
  },
  {
   "cell_type": "code",
   "execution_count": null,
   "metadata": {},
   "outputs": [],
   "source": [
    "# get_chunks(audio_path, chunk_path)"
   ]
  },
  {
   "cell_type": "code",
   "execution_count": 4,
   "metadata": {},
   "outputs": [
    {
     "name": "stderr",
     "output_type": "stream",
     "text": [
      "2025-07-06 10:43:46,379 - simalign.simalign - INFO - Initialized the EmbeddingLoader with model: bert-base-multilingual-cased\n"
     ]
    }
   ],
   "source": [
    "chunk_dict = model_asr.transcribe(\n",
    "    \"/home/alexbarrow/proj/video-dubbing-dls-project/data/wav_chunks/asr_result_2025-07-05 20:12:34.113331.json\",\n",
    "    save=False,\n",
    ")\n",
    "tr_dict = model_mt.translate(chunk_dict)\n",
    "allig_dict = alligment(tr_dict)"
   ]
  },
  {
   "cell_type": "code",
   "execution_count": 7,
   "metadata": {},
   "outputs": [
    {
     "data": {
      "text/plain": [
       "[{'start': 0.0,\n",
       "  'end': 15.92,\n",
       "  'text': ' When I was first learning to meditate, the instruction was to simply pay attention to my'},\n",
       " {'start': 15.92,\n",
       "  'end': 21.38,\n",
       "  'text': \" breath and when my mind wandered to bring it back. Sounded simple enough, yet I'd sit\"},\n",
       " {'start': 21.38,\n",
       "  'end': 26.2,\n",
       "  'text': \" on these silent retreats, sweating through t-shirts in the middle of winter. I'd take\"},\n",
       " {'start': 26.2,\n",
       "  'end': 30.52,\n",
       "  'text': ' naps every chance I got because it was really hard work. Actually, it was exhausting.'}]"
      ]
     },
     "execution_count": 7,
     "metadata": {},
     "output_type": "execute_result"
    }
   ],
   "source": [
    "allig_dict[\"0\"][\"asr_result\"]"
   ]
  },
  {
   "cell_type": "code",
   "execution_count": 8,
   "metadata": {},
   "outputs": [
    {
     "data": {
      "text/plain": [
       "[{'start': 0.0,\n",
       "  'end': 15.92,\n",
       "  'translated_text': 'Когда я впервые научилась медитировать, наставлено было наставлено просто обратить внимание на мое'},\n",
       " {'start': 15.92,\n",
       "  'end': 21.38,\n",
       "  'translated_text': 'дыхание и когда мой разум блуждал, чтобы вернуть его назад. Звучит просто, достаточно просто, но я сидела сидела'},\n",
       " {'start': 21.38,\n",
       "  'end': 26.2,\n",
       "  'translated_text': 'на этих тихихих отступниках, потея в футболках посреди посреди зимы. зимы. Я нюхала'},\n",
       " {'start': 26.2,\n",
       "  'end': 30.52,\n",
       "  'translated_text': 'каждый шанс, мне потому это была очень тяжелая работа. Вообще-то, это было утомительно.'}]"
      ]
     },
     "execution_count": 8,
     "metadata": {},
     "output_type": "execute_result"
    }
   ],
   "source": [
    "allig_dict[\"0\"][\"alligment\"]"
   ]
  },
  {
   "cell_type": "code",
   "execution_count": null,
   "metadata": {},
   "outputs": [],
   "source": []
  }
 ],
 "metadata": {
  "kernelspec": {
   "display_name": ".venv",
   "language": "python",
   "name": "python3"
  },
  "language_info": {
   "codemirror_mode": {
    "name": "ipython",
    "version": 3
   },
   "file_extension": ".py",
   "mimetype": "text/x-python",
   "name": "python",
   "nbconvert_exporter": "python",
   "pygments_lexer": "ipython3",
   "version": "3.11.9"
  }
 },
 "nbformat": 4,
 "nbformat_minor": 2
}
