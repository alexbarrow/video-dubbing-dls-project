{
 "cells": [
  {
   "cell_type": "code",
   "execution_count": null,
   "id": "2c522d16",
   "metadata": {},
   "outputs": [],
   "source": [
    "import os\n",
    "import re\n",
    "import sys\n",
    "from pathlib import Path\n",
    "\n",
    "src_path = Path(\"..\")\n",
    "sys.path.append(str(src_path.resolve()))\n",
    "\n",
    "# import librosa\n",
    "import numpy as np\n",
    "import pandas as pd\n",
    "from pydub import AudioSegment, effects\n",
    "from src.asr import ASR"
   ]
  },
  {
   "cell_type": "code",
   "execution_count": 3,
   "id": "7b04de1c",
   "metadata": {},
   "outputs": [],
   "source": [
    "# path_video = \"/home/alexbarrow/proj/video-dubbing-dls-project/data/Iron Man (2008) IMAX.mkv\"\n",
    "# video_to_wav(path_video, \"../data/video_wav.wav\")\n",
    "wav_path = \"../data/video_wav.wav\"\n",
    "audio_path = \"/home/alexbarrow/proj/video-dubbing-dls-project/data/Знакомство Тони Старка с остальными Мстителями _ Мстители (2012).mp3\"\n",
    "TRAIN_DIR = \"../data/train_data\""
   ]
  },
  {
   "cell_type": "code",
   "execution_count": 4,
   "id": "ddfaebfe",
   "metadata": {},
   "outputs": [],
   "source": [
    "wav = AudioSegment.from_file(wav_path)\n",
    "wav2 = AudioSegment.from_file(audio_path)"
   ]
  },
  {
   "cell_type": "code",
   "execution_count": 5,
   "id": "73fccd12",
   "metadata": {},
   "outputs": [],
   "source": [
    "seg_1 = wav[8 * 60 * 1000 : 8.9 * 60 * 1000]\n",
    "sample11 = seg_1[5 * 1000 : 13 * 1000]\n",
    "sample12 = seg_1[14 * 1000 : 15.8 * 1000]\n",
    "sample13 = seg_1[20 * 1000 : 25.4 * 1000]\n",
    "sample14 = seg_1[27.4 * 1000 : 34.55 * 1000]\n",
    "sample15 = seg_1[37 * 1000 : 47 * 1000]\n",
    "\n",
    "seg_2 = wav[11 * 60 * 1000 : 12.5 * 60 * 1000]\n",
    "sample21 = seg_2[8.2 * 1000 : 12 * 1000]\n",
    "sample22 = seg_2[14.725 * 1000 : 18.65 * 1000]\n",
    "sample23 = seg_2[23.4 * 1000 : 25.5 * 1000]\n",
    "\n",
    "seg_3 = wav[14 * 60 * 1000 : 15.5 * 60 * 1000]\n",
    "segment31 = seg_3[52 * 1000 : 62.4 * 1000]\n",
    "segment32 = seg_3[62.4 * 1000 : 68.6 * 1000]\n",
    "segment33 = seg_3[68.6 * 1000 : 76.3 * 1000]\n",
    "\n",
    "seg_4 = wav[22.5 * 60 * 1000 : 24 * 60 * 1000]\n",
    "segment41 = seg_4[8.2 * 1000 : 15.2 * 1000]  # шум\n",
    "\n",
    "segment01 = wav[24.12 * 60 * 1000 : 24.225 * 60 * 1000]\n",
    "\n",
    "seg_6 = wav[25.12 * 60 * 1000 : 27 * 60 * 1000]\n",
    "segment61 = seg_6[42 * 1000 : 47 * 1000]  # шум\n",
    "\n",
    "seg_7 = wav[44.5 * 60 * 1000 : 48 * 60 * 1000]\n",
    "segment71 = seg_7[25.7 * 1000 : 30.5 * 1000]\n",
    "segment72 = seg_7[32 * 1000 : 34.8 * 1000]\n",
    "segment73 = seg_7[36 * 1000 : 40.2 * 1000]\n",
    "segment74 = seg_7[44.5 * 1000 : 51.9 * 1000]\n",
    "segment75 = seg_7[65.9 * 1000 : 74.2 * 1000]\n",
    "\n",
    "seg_8 = wav[53 * 60 * 1000 : 56 * 60 * 1000]\n",
    "segment81 = seg_8[5.7 * 1000 : 11.7 * 1000]\n",
    "segment82 = seg_8[32.5 * 1000 : 38.1 * 1000]\n",
    "segment83 = seg_8[46.8 * 1000 : 51 * 1000]\n",
    "\n",
    "seg_9 = wav[58 * 60 * 1000 : 60 * 60 * 1000]\n",
    "segment91 = seg_9[43.2 * 1000 : 47.5 * 1000]\n",
    "segment92 = seg_9[48 * 1000 : 51 * 1000]\n",
    "\n",
    "seg_10 = wav[66 * 60 * 1000 : 68 * 60 * 1000]\n",
    "segment101 = seg_10[2 * 1000 : 9.8 * 1000]\n",
    "segment102 = seg_10[15.5 * 1000 : 25.59 * 1000]\n",
    "\n",
    "seg_02 = wav[85.469 * 60 * 1000 : 85.525 * 60 * 1000]\n",
    "\n",
    "seg_11 = wav[88.5 * 60 * 1000 : 91 * 60 * 1000]\n",
    "segment111 = seg_11[3.6 * 1000 : 8.9 * 1000]\n",
    "segment112 = seg_11[9.5 * 1000 : 16.3 * 1000]\n",
    "segment113 = seg_11[16.3 * 1000 : 22.6 * 1000]\n",
    "segment114 = seg_11[26.38 * 1000 : 32.6 * 1000]\n",
    "segment115 = seg_11[42.83 * 1000 : 50.3 * 1000]\n",
    "segment116 = seg_11[63 * 1000 : 72.3 * 1000]\n",
    "\n",
    "seg_12 = wav[114 * 60 * 1000 : 120 * 60 * 1000]\n",
    "segment121 = seg_12[22.3 * 1000 : 28 * 1000]\n",
    "segment122 = seg_12[57 * 1000 : 61.2 * 1000]\n",
    "segment123 = seg_12[64 * 1000 : 74.2 * 1000]\n",
    "segment124 = seg_12[75.01 * 1000 : 83.2 * 1000]\n",
    "segment125 = seg_12[148.8 * 1000 : 157.62 * 1000]\n",
    "segment126 = seg_12[160.2 * 1000 : 165 * 1000]\n",
    "segment127 = seg_12[167.5 * 1000 : 177.3 * 1000]\n",
    "\n",
    "segment_new_1 = wav2[10.5 * 1000 : 23 * 1000]\n",
    "segment_new_2 = wav2[24 * 1000 : 33 * 1000]\n",
    "segment_new_3 = wav2[41 * 1000 : 50.5 * 1000]\n",
    "segment_new_4 = wav2[57 * 1000 : 63.42 * 1000]\n",
    "segment_new_5 = wav2[71 * 1000 : 74.61 * 1000]\n",
    "segment_new_6 = wav2[83 * 1000 : 93.1 * 1000]\n"
   ]
  },
  {
   "cell_type": "code",
   "execution_count": 6,
   "id": "7e9ee191",
   "metadata": {},
   "outputs": [],
   "source": [
    "ss = [\n",
    "    sample11,\n",
    "    sample12,\n",
    "    sample13,\n",
    "    sample14,\n",
    "    sample15,\n",
    "    sample21,\n",
    "    sample22,\n",
    "    sample23,\n",
    "    segment31,\n",
    "    segment32,\n",
    "    segment33,\n",
    "    segment41,\n",
    "    segment01,\n",
    "    segment61,\n",
    "    segment71,\n",
    "    segment72,\n",
    "    segment73,\n",
    "    segment74,\n",
    "    segment75,\n",
    "    segment81,\n",
    "    segment82,\n",
    "    segment83,\n",
    "    segment91,\n",
    "    segment92,\n",
    "    segment101,\n",
    "    segment102,\n",
    "    seg_02,\n",
    "    segment111,\n",
    "    segment112,\n",
    "    segment113,\n",
    "    segment114,\n",
    "    segment115,\n",
    "    segment116,\n",
    "    segment121,\n",
    "    segment122,\n",
    "    segment123,\n",
    "    segment124,\n",
    "    segment125,\n",
    "    segment126,\n",
    "    segment127,\n",
    "    segment_new_1,\n",
    "    segment_new_2,\n",
    "    segment_new_3,\n",
    "    segment_new_4,\n",
    "    segment_new_5,\n",
    "    segment_new_6,\n",
    "]"
   ]
  },
  {
   "cell_type": "code",
   "execution_count": 7,
   "id": "2ba84563",
   "metadata": {},
   "outputs": [
    {
     "name": "stdout",
     "output_type": "stream",
     "text": [
      "LEN: 46\n",
      "MIN: 1800 MAX: 12500 MEAN: 6540\n",
      "LEN: 46\n",
      "MIN: 1.8 MAX: 12.5 MEAN: 6.5\n"
     ]
    }
   ],
   "source": [
    "lengths = [len(x) for x in ss]\n",
    "print(\"LEN:\", len(lengths))\n",
    "print(\n",
    "    \"MIN:\",\n",
    "    np.min(lengths),\n",
    "    \"MAX:\",\n",
    "    np.max(lengths),\n",
    "    \"MEAN:\",\n",
    "    round(np.mean(lengths)),\n",
    ")\n",
    "\n",
    "lengths_sec = [len(x) / 1000 for x in ss]\n",
    "print(\"LEN:\", len(lengths_sec))\n",
    "print(\n",
    "    \"MIN:\",\n",
    "    np.min(lengths_sec),\n",
    "    \"MAX:\",\n",
    "    np.max(lengths_sec),\n",
    "    \"MEAN:\",\n",
    "    round(np.mean(lengths_sec), 1),\n",
    ")"
   ]
  },
  {
   "cell_type": "code",
   "execution_count": 129,
   "id": "388ad2a4",
   "metadata": {},
   "outputs": [],
   "source": [
    "for i, sample in enumerate(ss):\n",
    "    norm_sample = effects.normalize(sample)\n",
    "    norm_sample.export(os.path.join(TRAIN_DIR, f\"sample{i}.wav\"), format=\"wav\")"
   ]
  },
  {
   "cell_type": "code",
   "execution_count": 10,
   "id": "9127282a",
   "metadata": {},
   "outputs": [],
   "source": [
    "# denoised\n",
    "paths = []\n",
    "for root, _, filenames in os.walk(os.path.join(TRAIN_DIR, \"wavs\")):\n",
    "    for filename in filenames:\n",
    "        paths.append(os.path.join(root, filename))\n",
    "\n",
    "# for path in paths:\n",
    "#     y, sr = librosa.load(path)\n",
    "#     denoised = nr.reduce_noise(y=y, sr=sr, prop_decrease=0.7)\n",
    "#     sf.write(path, denoised, sr)\n"
   ]
  },
  {
   "cell_type": "code",
   "execution_count": 12,
   "id": "72fc2fe7",
   "metadata": {},
   "outputs": [],
   "source": [
    "model_asr = ASR(\"large\", device=\"cuda\")  # use large model to better asr"
   ]
  },
  {
   "cell_type": "code",
   "execution_count": null,
   "id": "e329d293",
   "metadata": {},
   "outputs": [],
   "source": [
    "asr_results = []\n",
    "for path in paths:\n",
    "    asr_list = model_asr._transcribe_wav(path)\n",
    "    seg_text = []\n",
    "    for seg in asr_list:\n",
    "        seg_text.append(seg[\"text\"])\n",
    "    asr_results.append(\" \".join(seg_text))\n",
    "\n",
    "asr_results = [txt.strip() for txt in asr_results]\n",
    "asr_results = [re.sub(r\"\\s+\", \" \", txt) for txt in asr_results]\n",
    "\n",
    "print(len(asr_results))\n",
    "print(asr_results[:2])\n",
    "\n",
    "filenames = [Path(path).stem for path in paths]"
   ]
  },
  {
   "cell_type": "code",
   "execution_count": null,
   "id": "1a01e929",
   "metadata": {},
   "outputs": [],
   "source": [
    "ljspeach_dataset = pd.DataFrame(\n",
    "    {\n",
    "        \"ID\": filenames,\n",
    "        \"Transcription\": asr_results,\n",
    "        \"Normalized Transcriptions\": asr_results,\n",
    "    }\n",
    ")"
   ]
  },
  {
   "cell_type": "code",
   "execution_count": 162,
   "id": "981a49db",
   "metadata": {},
   "outputs": [
    {
     "data": {
      "text/html": [
       "<div>\n",
       "<style scoped>\n",
       "    .dataframe tbody tr th:only-of-type {\n",
       "        vertical-align: middle;\n",
       "    }\n",
       "\n",
       "    .dataframe tbody tr th {\n",
       "        vertical-align: top;\n",
       "    }\n",
       "\n",
       "    .dataframe thead th {\n",
       "        text-align: right;\n",
       "    }\n",
       "</style>\n",
       "<table border=\"1\" class=\"dataframe\">\n",
       "  <thead>\n",
       "    <tr style=\"text-align: right;\">\n",
       "      <th></th>\n",
       "      <th>ID</th>\n",
       "      <th>Transcription</th>\n",
       "      <th>Normalized Transcriptions</th>\n",
       "    </tr>\n",
       "  </thead>\n",
       "  <tbody>\n",
       "    <tr>\n",
       "      <th>0</th>\n",
       "      <td>sample2</td>\n",
       "      <td>Отвечу серьезно. Мой отец говорил, что мир кре...</td>\n",
       "      <td>Отвечу серьезно. Мой отец говорил, что мир кре...</td>\n",
       "    </tr>\n",
       "    <tr>\n",
       "      <th>1</th>\n",
       "      <td>sample23</td>\n",
       "      <td>В смысле, в компании именно я отвечаю за то, ч...</td>\n",
       "      <td>В смысле, в компании именно я отвечаю за то, ч...</td>\n",
       "    </tr>\n",
       "    <tr>\n",
       "      <th>2</th>\n",
       "      <td>sample18</td>\n",
       "      <td>Я словно прозрел и осознал, что могу предложит...</td>\n",
       "      <td>Я словно прозрел и осознал, что могу предложит...</td>\n",
       "    </tr>\n",
       "  </tbody>\n",
       "</table>\n",
       "</div>"
      ],
      "text/plain": [
       "         ID                                      Transcription  \\\n",
       "0   sample2  Отвечу серьезно. Мой отец говорил, что мир кре...   \n",
       "1  sample23  В смысле, в компании именно я отвечаю за то, ч...   \n",
       "2  sample18  Я словно прозрел и осознал, что могу предложит...   \n",
       "\n",
       "                           Normalized Transcriptions  \n",
       "0  Отвечу серьезно. Мой отец говорил, что мир кре...  \n",
       "1  В смысле, в компании именно я отвечаю за то, ч...  \n",
       "2  Я словно прозрел и осознал, что могу предложит...  "
      ]
     },
     "execution_count": 162,
     "metadata": {},
     "output_type": "execute_result"
    }
   ],
   "source": [
    "ljspeach_dataset.head(3)"
   ]
  },
  {
   "cell_type": "code",
   "execution_count": null,
   "id": "dfb7e082",
   "metadata": {},
   "outputs": [
    {
     "data": {
      "text/plain": [
       "'Отвечу серьезно. Мой отец говорил, что мир крепче, если у тебя дубина крепче.'"
      ]
     },
     "execution_count": 163,
     "metadata": {},
     "output_type": "execute_result"
    }
   ],
   "source": [
    "ljspeach_dataset.iloc[0, 1]"
   ]
  },
  {
   "cell_type": "code",
   "execution_count": null,
   "id": "f06a6bf2",
   "metadata": {},
   "outputs": [],
   "source": [
    "ljspeach_dataset.to_csv(\n",
    "    os.path.join(TRAIN_DIR, \"train_dataset.csv\"), index=False, sep=\"|\", header=False\n",
    ")"
   ]
  }
 ],
 "metadata": {
  "kernelspec": {
   "display_name": "video-dubbing-dls-project",
   "language": "python",
   "name": "python3"
  },
  "language_info": {
   "codemirror_mode": {
    "name": "ipython",
    "version": 3
   },
   "file_extension": ".py",
   "mimetype": "text/x-python",
   "name": "python",
   "nbconvert_exporter": "python",
   "pygments_lexer": "ipython3",
   "version": "3.11.9"
  }
 },
 "nbformat": 4,
 "nbformat_minor": 5
}
